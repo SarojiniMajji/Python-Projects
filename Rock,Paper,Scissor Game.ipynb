{
 "cells": [
  {
   "cell_type": "code",
   "execution_count": 8,
   "id": "1e248b6d",
   "metadata": {},
   "outputs": [
    {
     "name": "stdout",
     "output_type": "stream",
     "text": [
      "rock, paper, or scissors?: rock\n",
      "computer:  scissors\n",
      "player:  rock\n",
      "Hurray You Win!!!\n",
      "Play again? (yes/no): yes\n",
      "rock, paper, or scissors?: udhsk\n",
      "rock, paper, or scissors?: paper\n",
      "computer:  paper\n",
      "player:  paper\n",
      "It's a Tie\n",
      "Play again? (yes/no): hfhj\n",
      "Please enter (yes/no): no\n",
      "Play Again!\n"
     ]
    }
   ],
   "source": [
    "import random\n",
    "\n",
    "def play_game():\n",
    "    choices = [\"rock\",\"paper\",\"scissors\"]\n",
    "\n",
    "    computer = random.choice(choices)\n",
    "    player = None\n",
    "\n",
    "    while player not in choices:\n",
    "        player = input(\"rock, paper, or scissors?: \").lower()\n",
    "        \n",
    "    player_winning_chances = [('paper','rock'),('scissors','paper'),('rock','scissors')]\n",
    "    if (player,computer) in player_winning_chances:\n",
    "        print(\"computer: \", computer)\n",
    "        print(\"player: \", player)\n",
    "        print(\"Hurray You Win!!!\")\n",
    "    elif player==computer:\n",
    "        print(\"computer: \", computer)\n",
    "        print(\"player: \", player)\n",
    "        print(\"It's a Tie\")\n",
    "    else:\n",
    "        print(\"computer: \", computer)\n",
    "        print(\"player: \", player)\n",
    "        print(\"You lost the Game!!!\")\n",
    "\n",
    "  \n",
    "    play_again = input(\"Play again? (yes/no): \").lower()\n",
    "    play_again_conditions = ['yes','no']\n",
    "    \n",
    "    if play_again == \"yes\":\n",
    "            play_game()\n",
    "    elif play_again == \"no\":\n",
    "            print(\"Play Again!\")\n",
    "            \n",
    "    while play_again not in play_again_conditions:\n",
    "        play_again = input(\"Please enter (yes/no): \").lower()\n",
    "        if play_again == \"yes\":\n",
    "            play_game()\n",
    "        elif play_again == \"no\":\n",
    "            print(\"Play Again!\")    \n",
    "\n",
    "play_game()"
   ]
  }
 ],
 "metadata": {
  "kernelspec": {
   "display_name": "Python 3 (ipykernel)",
   "language": "python",
   "name": "python3"
  },
  "language_info": {
   "codemirror_mode": {
    "name": "ipython",
    "version": 3
   },
   "file_extension": ".py",
   "mimetype": "text/x-python",
   "name": "python",
   "nbconvert_exporter": "python",
   "pygments_lexer": "ipython3",
   "version": "3.9.7"
  }
 },
 "nbformat": 4,
 "nbformat_minor": 5
}
